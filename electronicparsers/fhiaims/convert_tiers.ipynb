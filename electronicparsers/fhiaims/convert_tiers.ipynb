{
 "cells": [
  {
   "cell_type": "code",
   "execution_count": 159,
   "metadata": {},
   "outputs": [],
   "source": [
    "import json\n",
    "from typing import Any"
   ]
  },
  {
   "cell_type": "code",
   "execution_count": 160,
   "metadata": {},
   "outputs": [],
   "source": [
    "# set up data provenance\n",
    "\n",
    "dir = '/home/nathan/Documents/nomad-FAIR/dependencies/parsers/electronic/electronicparsers/fhiaims/'\n",
    "tier_ranking = {'light': 3, 'tight': 2, 'really_tight': 1}  # ranked by descending hierarchy\n",
    "tiers = sorted(tier_ranking, key=tier_ranking.get)\n"
   ]
  },
  {
   "cell_type": "code",
   "execution_count": 161,
   "metadata": {},
   "outputs": [],
   "source": [
    "def extract_build_info(parserInfo: dict[str, Any]) -> dict[str, str]:\n",
    "    \"\"\"\n",
    "    Return the relevant subset of parserInfo\n",
    "    \"\"\"\n",
    "    new_parser_info: dict[str, str] = {}\n",
    "    new_parser_info['parser_name'] = parserInfo['name']\n",
    "    for tag in ['version', 'sbtVersion', 'scalaVersion']:\n",
    "        new_parser_info[tag] = parserInfo['versionInfo'][tag]\n",
    "    return new_parser_info"
   ]
  },
  {
   "cell_type": "code",
   "execution_count": 162,
   "metadata": {},
   "outputs": [],
   "source": [
    "def filter_native_quantities(elements: dict[str, Any]) -> dict[str, Any]:\n",
    "    \"\"\"\n",
    "    Filter out all non-application quantities from the elements dictionary.\n",
    "    \"\"\"\n",
    "    filtered_elements: dict[str, Any] = {}\n",
    "    for tag, element in elements.items():\n",
    "        # distinguish application quantities\n",
    "        if tag[:2] == 'x_':\n",
    "            if isinstance(element, list):\n",
    "                if all(isinstance(x, dict) for x in element):\n",
    "                    filtered_elements[tag] = [filter_native_quantities(spec) for spec in element]\n",
    "                    continue\n",
    "            filtered_elements[tag] = element\n",
    "    return filtered_elements"
   ]
  },
  {
   "cell_type": "code",
   "execution_count": 163,
   "metadata": {},
   "outputs": [],
   "source": [
    "def replace_indexed_quantities(elements: dict[str, Any]) -> dict[str, Any]:\n",
    "    \"\"\"\n",
    "    Replace indexed quantities with a list of comparable entries.\n",
    "    This implementation assumes that all indexes are present.\n",
    "    \"\"\"\n",
    "    filtered_elements: dict[str, Any] = {}\n",
    "    new_quantities: dict[str, dict[Any, int]] = {}\n",
    "    numbers = [str(i) for i in range(10)]\n",
    "    for tag, element in elements.items():\n",
    "        # distinguish indexed quantities\n",
    "        if tag[-1] in numbers:\n",
    "            new_tag, indexed = tag[:-1], int(tag[-1])\n",
    "            # store indexed quantities separately in `new_quantities`\n",
    "            # importantly, they aren't stored in `filtered_elements` directly\n",
    "            if new_tag not in new_quantities:\n",
    "                new_quantities[new_tag] = {}\n",
    "            if isinstance(element, list):\n",
    "                element = tuple(element)\n",
    "            new_quantities[new_tag][element] = indexed\n",
    "        else:\n",
    "            filtered_elements[tag] = element\n",
    "    for new_tag, new_quantity in new_quantities.items():\n",
    "        # add sorted indexed quantities\n",
    "        filtered_elements[new_tag] = sorted(new_quantity.keys(), key=lambda x: new_quantity[x])\n",
    "    return filtered_elements"
   ]
  },
  {
   "cell_type": "code",
   "execution_count": 164,
   "metadata": {},
   "outputs": [],
   "source": [
    "def filter_quantity_name(element: dict[str, Any], quantity_names: list[str]) -> dict[str, Any]:\n",
    "    \"\"\"\n",
    "    Filter out the name of the quantity from the element dictionary.\n",
    "    \"\"\"\n",
    "    filtered_element: dict[str, Any] = {}\n",
    "    for tag, value in element.items():\n",
    "        if tag not in quantity_names:\n",
    "            filtered_element[tag] = value\n",
    "    return filtered_element"
   ]
  },
  {
   "cell_type": "code",
   "execution_count": 165,
   "metadata": {},
   "outputs": [],
   "source": [
    "# read in and process all data\n",
    "\n",
    "filtered_quantities = [\n",
    "    'x_fhi_aims_controlIn_nucleus',\n",
    "    'x_fhi_aims_controlIn_mass',\n",
    "    'x_fhi_aims_controlIn_species_name',\n",
    "    'x_fhi_aims_controlIn_angular_grids_method',\n",
    "]  # filter out other identifiers\n",
    "\n",
    "all_tiers: dict[dict[str, dict[str, Any]]] = {'data': {}}\n",
    "read_info = True\n",
    "for tier_name in tiers:\n",
    "    filename = f'{tier_name}.json'\n",
    "    with open(filename, 'r') as f:\n",
    "        tier_data = json.load(f)\n",
    "\n",
    "        # extract build info\n",
    "        if read_info:\n",
    "            all_tiers['info'] = extract_build_info(tier_data['parserInfo'])\n",
    "            read_info = False\n",
    "\n",
    "        # extract reference data defining tier\n",
    "        data = tier_data['sections']['section_run-0']['sections']['section_method-0']['x_fhi_aims_section_controlIn_basis_set']\n",
    "        storage = all_tiers['data']\n",
    "        for element in data:\n",
    "            element_name = element['x_fhi_aims_controlIn_species_name']\n",
    "            if element_name not in storage:\n",
    "                storage[element_name] = {}\n",
    "            storage[element_name][f'{tier_name}_2020'] =\\\n",
    "                replace_indexed_quantities(\n",
    "                    filter_quantity_name(\n",
    "                        filter_native_quantities(element),\n",
    "                        filtered_quantities\n",
    "                    )\n",
    "                )"
   ]
  },
  {
   "cell_type": "code",
   "execution_count": 166,
   "metadata": {},
   "outputs": [
    {
     "name": "stdout",
     "output_type": "stream",
     "text": [
      "{'parser_name': 'FhiAimsControlInParser', 'version': '2.0.0-6-g84af92a', 'sbtVersion': '0.13.13', 'scalaVersion': '2.11.8'}\n"
     ]
    },
    {
     "data": {
      "text/plain": [
       "{'x_fhi_aims_controlIn_radial_multiplier': 1,\n",
       " 'x_fhi_aims_controlIn_outer_grid': 302.0,\n",
       " 'x_fhi_aims_controlIn_l_hartree': 4,\n",
       " 'x_fhi_aims_controlIn_basis_dep_cutoff': 0.0001,\n",
       " 'x_fhi_aims_section_controlIn_basis_func': [{'x_fhi_aims_controlIn_basis_func_l': 's',\n",
       "   'x_fhi_aims_controlIn_basis_func_radius': 1.0,\n",
       "   'x_fhi_aims_controlIn_basis_func_type': 'valence',\n",
       "   'x_fhi_aims_controlIn_basis_func_n': 1},\n",
       "  {'x_fhi_aims_controlIn_basis_func_l': 's',\n",
       "   'x_fhi_aims_controlIn_basis_func_radius': 0.5,\n",
       "   'x_fhi_aims_controlIn_basis_func_type': 'ion_occ',\n",
       "   'x_fhi_aims_controlIn_basis_func_n': 1},\n",
       "  {'x_fhi_aims_controlIn_basis_func_l': 's',\n",
       "   'x_fhi_aims_controlIn_basis_func_radius': 2.1,\n",
       "   'x_fhi_aims_controlIn_basis_func_type': 'hydro',\n",
       "   'x_fhi_aims_controlIn_basis_func_n': 2},\n",
       "  {'x_fhi_aims_controlIn_basis_func_l': 'p',\n",
       "   'x_fhi_aims_controlIn_basis_func_radius': 3.5,\n",
       "   'x_fhi_aims_controlIn_basis_func_type': 'hydro',\n",
       "   'x_fhi_aims_controlIn_basis_func_n': 2}],\n",
       " 'x_fhi_aims_controlIn_cut_pot': [3.5, 1.5, 1.0],\n",
       " 'x_fhi_aims_controlIn_division': [(0.2421, 0.3822, 0.4799, 0.5341),\n",
       "  (50, 110, 194, 302)],\n",
       " 'x_fhi_aims_controlIn_radial_base': [24.0, 5.0]}"
      ]
     },
     "execution_count": 166,
     "metadata": {},
     "output_type": "execute_result"
    }
   ],
   "source": [
    "# sample test the final result\n",
    "\n",
    "print(all_tiers['info'])\n",
    "all_tiers['data']['H']['light_2020']"
   ]
  },
  {
   "cell_type": "code",
   "execution_count": 167,
   "metadata": {},
   "outputs": [],
   "source": [
    "# write the data to disk\n",
    "with open('native_tier_references.json', 'w') as f:\n",
    "    json.dump(all_tiers, f, indent=4)\n",
    "    f.close()"
   ]
  }
 ],
 "metadata": {
  "kernelspec": {
   "display_name": ".pyenv",
   "language": "python",
   "name": "python3"
  },
  "language_info": {
   "codemirror_mode": {
    "name": "ipython",
    "version": 3
   },
   "file_extension": ".py",
   "mimetype": "text/x-python",
   "name": "python",
   "nbconvert_exporter": "python",
   "pygments_lexer": "ipython3",
   "version": "3.9.16"
  },
  "orig_nbformat": 4
 },
 "nbformat": 4,
 "nbformat_minor": 2
}
